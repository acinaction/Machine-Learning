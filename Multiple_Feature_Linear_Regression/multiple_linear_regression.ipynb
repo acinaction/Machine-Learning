{
  "nbformat": 4,
  "nbformat_minor": 0,
  "metadata": {
    "colab": {
      "provenance": []
    },
    "kernelspec": {
      "name": "python3",
      "display_name": "Python 3"
    },
    "language_info": {
      "name": "python"
    }
  },
  "cells": [
    {
      "cell_type": "markdown",
      "source": [
        "## Linear Regression with Multiple Features\n"
      ],
      "metadata": {
        "id": "Y8a-l3fu0i1C"
      }
    },
    {
      "cell_type": "markdown",
      "source": [
        "* First we import the required libraries."
      ],
      "metadata": {
        "id": "Nc45iCkC0re-"
      }
    },
    {
      "cell_type": "code",
      "execution_count": 1,
      "metadata": {
        "id": "PpTm-Cy2SLNG"
      },
      "outputs": [],
      "source": [
        "import numpy as np\n",
        "import matplotlib.pyplot as plt\n",
        "import math, copy"
      ]
    },
    {
      "cell_type": "markdown",
      "source": [
        "* Now we take the training set."
      ],
      "metadata": {
        "id": "6vIGV6HV0wtb"
      }
    },
    {
      "cell_type": "code",
      "source": [
        "x_train = np.array([[2104, 5, 1, 45], [1416, 3, 2, 40], [852, 2, 1, 35],[1800, 4, 2, 30]])\n",
        "y_train = np.array([460, 232, 178, 420])"
      ],
      "metadata": {
        "id": "XmuzmghZT-wU"
      },
      "execution_count": 2,
      "outputs": []
    },
    {
      "cell_type": "markdown",
      "source": [
        "\n",
        "### 📏 Feature Scaling in Multiple Feature Linear Regression\n",
        "\n",
        "When we have multiple features (x₁, x₂, …, xₙ), their values can be on very different scales.\n",
        "For example:\n",
        "- Size of house (in 1000s of sq.ft) → 1 to 10  \n",
        "- Number of bedrooms → 1 to 5  \n",
        "- Price → thousands or lakhs\n",
        "\n",
        "➡️ The problem:\n",
        "If features are not scaled, **gradient descent becomes very slow** or may even fail to converge properly.\n",
        "That’s because features with larger numeric ranges dominate the cost function, causing the algorithm\n",
        "to \"zig-zag\" during optimization instead of smoothly descending.\n",
        "\n",
        "---\n",
        "\n",
        "### 🔹 Two Main Types of Feature Scaling:\n",
        "\n",
        "1. **Min-Max Normalization (Rescaling)**\n",
        "   - Formula:  \n",
        "     x_scaled = (x - x_min) / (x_max - x_min)\n",
        "   - Transforms all values to a range between **0 and 1**.\n",
        "   - Works well when the data has a known and fixed range.\n",
        "\n",
        "2. **Standardization (Z-score Normalization)**\n",
        "   - Formula:  \n",
        "     x_scaled = (x - mean(x)) / std(x)\n",
        "   - Centers the data around **mean = 0** with **std = 1**.\n",
        "   - More robust when data doesn’t have a fixed range or has outliers.\n",
        "   - Commonly used before applying gradient descent or ML algorithms.\n",
        "\n",
        "---\n",
        "\n",
        "### 💡 In Practice:\n",
        "For multiple feature linear regression, we typically use **standardization** because:\n",
        "- It ensures all features contribute equally.\n",
        "- It speeds up convergence during gradient descent.\n",
        "- It improves numerical stability.\n",
        "\n",
        "Example:\n",
        "\n",
        "    mean = np.mean(x_train, axis=0)\n",
        "\n",
        "    std = np.std(x_train, axis=0)\n",
        "\n",
        "    x_scaled = (x_train - mean) / std"
      ],
      "metadata": {
        "id": "2bBS_bTC00jf"
      }
    },
    {
      "cell_type": "code",
      "source": [
        "mu = np.mean(x_train,axis=0)\n",
        "sigma = np.std(x_train,axis=0)\n",
        "x_train=(x_train-mu)/sigma\n",
        "print(x_train)"
      ],
      "metadata": {
        "colab": {
          "base_uri": "https://localhost:8080/"
        },
        "id": "CkGxkNaWnyJf",
        "outputId": "2f851c31-4612-41af-ad71-9a511a3b253e"
      },
      "execution_count": 3,
      "outputs": [
        {
          "output_type": "stream",
          "name": "stdout",
          "text": [
            "[[ 1.19989363  1.34164079 -1.          1.34164079]\n",
            " [-0.27163367 -0.4472136   1.          0.4472136 ]\n",
            " [-1.47794385 -1.34164079 -1.         -0.4472136 ]\n",
            " [ 0.54968389  0.4472136   1.         -1.34164079]]\n"
          ]
        }
      ]
    },
    {
      "cell_type": "code",
      "source": [
        "# m is the number of features\n",
        "# n is the number of training examples\n",
        "m=x_train.shape[1]\n",
        "print(m)"
      ],
      "metadata": {
        "id": "V3D5ugWPUOgp",
        "colab": {
          "base_uri": "https://localhost:8080/"
        },
        "outputId": "2405055e-2fef-40b1-87b4-0b3ad72ac660"
      },
      "execution_count": 14,
      "outputs": [
        {
          "output_type": "stream",
          "name": "stdout",
          "text": [
            "4\n"
          ]
        }
      ]
    },
    {
      "cell_type": "code",
      "source": [
        "w = np.zeros(m)\n",
        "b = 0"
      ],
      "metadata": {
        "id": "c4hSsi-7UaFy"
      },
      "execution_count": 15,
      "outputs": []
    },
    {
      "cell_type": "markdown",
      "source": [
        "### 🧮 Compute Functions for Multiple Linear Regression\n",
        "\n",
        "Now we define the three essential functions needed for gradient descent:\n",
        "1. compute_cost() – to calculate how far our predictions are from actual values.\n",
        "2. compute_gradient() – to find the direction to update weights and bias.\n",
        "3. compute_prediction() – to predict outputs using current parameters."
      ],
      "metadata": {
        "id": "gXiTx4KbIFlv"
      }
    },
    {
      "cell_type": "markdown",
      "source": [
        "# Compute Cost With Multiple Variables\n",
        "The equation for the cost function with multiple variables $J(\\mathbf{w},b)$ is:\n",
        "$$J(\\mathbf{w},b) = \\frac{1}{2m} \\sum\\limits_{i = 0}^{m-1} (f_{\\mathbf{w},b}(\\mathbf{x}^{(i)}) - y^{(i)})^2 \\tag{1}$$\n",
        "where:\n",
        "$$ f_{\\mathbf{w},b}(\\mathbf{x}^{(i)}) = \\mathbf{w} \\cdot \\mathbf{x}^{(i)} + b  \\tag{2} $$"
      ],
      "metadata": {
        "id": "2u8HacS1JUwS"
      }
    },
    {
      "cell_type": "code",
      "source": [
        "def compute_cost(w,b,x,y):\n",
        "  m=x.shape[0]\n",
        "  cost = 0\n",
        "  for i in range(m):\n",
        "    dot = np.dot(x[i],w)\n",
        "    diff = dot + b - y[i]\n",
        "    cost += diff**2\n",
        "  return cost/(2*m)"
      ],
      "metadata": {
        "id": "ziy3cT-JUja6"
      },
      "execution_count": 13,
      "outputs": []
    },
    {
      "cell_type": "markdown",
      "source": [
        "# 5 Gradient Descent With Multiple Variables\n",
        "Gradient descent for multiple variables:\n",
        "\n",
        "$$\\begin{align*} \\text{repeat}&\\text{ until convergence:} \\; \\lbrace \\newline\\;\n",
        "& w_j = w_j -  \\alpha \\frac{\\partial J(\\mathbf{w},b)}{\\partial w_j} \\tag{3}  \\; & \\text{for j = 0..n-1}\\newline\n",
        "&b\\ \\ = b -  \\alpha \\frac{\\partial J(\\mathbf{w},b)}{\\partial b}  \\newline \\rbrace\n",
        "\\end{align*}$$\n",
        "\n",
        "where, n is the number of features, parameters $w_j$,  $b$, are updated simultaneously and where  \n",
        "\n",
        "$$\n",
        "\\begin{align}\n",
        "\\frac{\\partial J(\\mathbf{w},b)}{\\partial w_j}  &= \\frac{1}{m} \\sum\\limits_{i = 0}^{m-1} (f_{\\mathbf{w},b}(\\mathbf{x}^{(i)}) - y^{(i)})x_{j}^{(i)} \\tag{4}  \\\\\n",
        "\\frac{\\partial J(\\mathbf{w},b)}{\\partial b}  &= \\frac{1}{m} \\sum\\limits_{i = 0}^{m-1} (f_{\\mathbf{w},b}(\\mathbf{x}^{(i)}) - y^{(i)}) \\tag{5}\n",
        "\\end{align}\n",
        "$$\n",
        "* m is the number of training examples in the data set"
      ],
      "metadata": {
        "id": "VnqVjMlQJlgY"
      }
    },
    {
      "cell_type": "code",
      "source": [
        "def compute_gradient(w,b,x,y):\n",
        "  m=x.shape[0]\n",
        "  n=x.shape[1]\n",
        "  dj_dw=np.zeros(n)\n",
        "  dj_db=0\n",
        "  for i in range(m):\n",
        "    dot = np.dot(w,x[i])\n",
        "    diff = dot + b - y[i]\n",
        "    for j in range(n):\n",
        "      dj_dw[j]+= diff * x[i,j]\n",
        "    dj_db+= diff\n",
        "  return dj_dw/m, dj_db/m\n"
      ],
      "metadata": {
        "id": "eRhflqBrWJ89"
      },
      "execution_count": 11,
      "outputs": []
    },
    {
      "cell_type": "code",
      "source": [
        "def compure_prediction(w,b,x):\n",
        "  n = x.shape[0]\n",
        "  predict = np.zeros(n)\n",
        "  for i in range(n):\n",
        "    dot = np.dot(w,x[i])\n",
        "    predict[i] = dot+b\n",
        "  return predict"
      ],
      "metadata": {
        "id": "k9tT1EnvY-0m"
      },
      "execution_count": 14,
      "outputs": []
    },
    {
      "cell_type": "code",
      "source": [
        "compute_cost(w,b,x_train,y_train)"
      ],
      "metadata": {
        "colab": {
          "base_uri": "https://localhost:8080/"
        },
        "id": "2M2Sk7F5VXHs",
        "outputId": "f48632bf-732e-4d85-9226-f09a59ae6bfe"
      },
      "execution_count": 19,
      "outputs": [
        {
          "output_type": "execute_result",
          "data": {
            "text/plain": [
              "np.float64(59188.5)"
            ]
          },
          "metadata": {},
          "execution_count": 19
        }
      ]
    },
    {
      "cell_type": "markdown",
      "source": [
        "* Now we have got all the tools to perform gradient descent.\n",
        "* Let's go and code the final part."
      ],
      "metadata": {
        "id": "pcR3NnQDKCvp"
      }
    },
    {
      "cell_type": "code",
      "source": [
        "def perform_gradient_descent(w,b,x,y,alpha,iterations):\n",
        "  j_his=[]\n",
        "  current_cost=compute_cost(w,b,x,y)\n",
        "  print(f\"initial cost is {current_cost}\\n\")\n",
        "  j_his.append(current_cost)\n",
        "  for i in range(iterations):\n",
        "    dj_dw,dj_db=compute_gradient(w,b,x,y)\n",
        "    w=w-alpha*dj_dw\n",
        "    b=b-alpha*dj_db\n",
        "    current_cost= compute_cost(w,b,x,y)\n",
        "    j_his.append(current_cost)\n",
        "    if i%(iterations//10)==0:\n",
        "      print(f\"current cost = {current_cost} w = {w} b = {b} dj_db = {dj_db}\\n\")\n",
        "  return j_his,w,b"
      ],
      "metadata": {
        "id": "tV1RWNfqXgZu"
      },
      "execution_count": 9,
      "outputs": []
    },
    {
      "cell_type": "code",
      "source": [
        "cost_history,w,b=perform_gradient_descent(w,b,x_train,y_train,0.0001,10000000)"
      ],
      "metadata": {
        "colab": {
          "base_uri": "https://localhost:8080/"
        },
        "id": "MOkQs3_EYbsZ",
        "outputId": "90320344-82de-4fc4-f270-a94f5a98c2f2"
      },
      "execution_count": 21,
      "outputs": [
        {
          "output_type": "stream",
          "name": "stdout",
          "text": [
            "initial cost is 59188.5\n",
            "\n",
            "current cost = 59175.42092432751 w = [0.01141813 0.01156047 0.00035    0.00194538] b = 0.03225 dj_db = -322.5\n",
            "\n",
            "current cost = 4.410712576315071e-20 w = [ 63.18719507  69.56916379 -23.75428041 -41.29944596] b = 322.49999999971584 dj_db = -2.8416025088517927e-10\n",
            "\n",
            "current cost = 4.410712576315071e-20 w = [ 63.18719507  69.56916379 -23.75428041 -41.29944596] b = 322.49999999971584 dj_db = -2.8416025088517927e-10\n",
            "\n",
            "current cost = 4.410712576315071e-20 w = [ 63.18719507  69.56916379 -23.75428041 -41.29944596] b = 322.49999999971584 dj_db = -2.8416025088517927e-10\n",
            "\n",
            "current cost = 4.410712576315071e-20 w = [ 63.18719507  69.56916379 -23.75428041 -41.29944596] b = 322.49999999971584 dj_db = -2.8416025088517927e-10\n",
            "\n",
            "current cost = 4.410712576315071e-20 w = [ 63.18719507  69.56916379 -23.75428041 -41.29944596] b = 322.49999999971584 dj_db = -2.8416025088517927e-10\n",
            "\n",
            "current cost = 4.410712576315071e-20 w = [ 63.18719507  69.56916379 -23.75428041 -41.29944596] b = 322.49999999971584 dj_db = -2.8416025088517927e-10\n",
            "\n",
            "current cost = 4.410712576315071e-20 w = [ 63.18719507  69.56916379 -23.75428041 -41.29944596] b = 322.49999999971584 dj_db = -2.8416025088517927e-10\n",
            "\n",
            "current cost = 4.410712576315071e-20 w = [ 63.18719507  69.56916379 -23.75428041 -41.29944596] b = 322.49999999971584 dj_db = -2.8416025088517927e-10\n",
            "\n",
            "current cost = 4.410712576315071e-20 w = [ 63.18719507  69.56916379 -23.75428041 -41.29944596] b = 322.49999999971584 dj_db = -2.8416025088517927e-10\n",
            "\n"
          ]
        }
      ]
    },
    {
      "cell_type": "code",
      "source": [],
      "metadata": {
        "id": "q4b6rE_LiHap"
      },
      "execution_count": null,
      "outputs": []
    },
    {
      "cell_type": "code",
      "source": [
        "predict = compure_prediction(w,b,x_train)\n",
        "plt.plot(range(x_train.shape[0]),predict,c=\"green\",label=\"prediction\")\n",
        "plt.scatter(range(x_train.shape[0]),y_train,c=\"red\",marker=\"x\",label=\"real\")\n",
        "plt.xlabel(\"input index\")\n",
        "plt.ylabel(\"price\")\n",
        "plt.title(\"housing price\")\n",
        "plt.legend()\n",
        "plt.show()\n",
        "print(predict)"
      ],
      "metadata": {
        "colab": {
          "base_uri": "https://localhost:8080/",
          "height": 489
        },
        "id": "DsKRH2JdbOoW",
        "outputId": "66c2f10c-98b8-4c14-e6d1-570b3adedab3"
      },
      "execution_count": 22,
      "outputs": [
        {
          "output_type": "display_data",
          "data": {
            "text/plain": [
              "<Figure size 640x480 with 1 Axes>"
            ],
            "image/png": "[encoded data removed]"
          },
          "metadata": {}
        },
        {
          "output_type": "stream",
          "name": "stdout",
          "text": [
            "[460. 232. 178. 420.]\n"
          ]
        }
      ]
    },
    {
      "cell_type": "code",
      "source": [
        "plt.plot(range(10000001),cost_history)\n",
        "plt.xlabel(\"iteration\")\n",
        "plt.ylabel(\"cost\")\n",
        "plt.title(\"Iteration vs cost\")\n",
        "plt.show()"
      ],
      "metadata": {
        "colab": {
          "base_uri": "https://localhost:8080/",
          "height": 472
        },
        "id": "5pdtxf6Wbzoe",
        "outputId": "45bec15a-82c7-494e-ae94-31d29f820dfe"
      },
      "execution_count": 23,
      "outputs": [
        {
          "output_type": "display_data",
          "data": {
            "text/plain": [
              "<Figure size 640x480 with 1 Axes>"
            ],
            "image/png": "[encoded data removed]"
          },
          "metadata": {}
        }
      ]
    },
    {
      "cell_type": "code",
      "source": [
        "x_house = np.array([1200, 3, 1, 40])\n",
        "x_house = (x_house-mu)/sigma\n",
        "print(x_house)\n",
        "print(np.dot(x_house,w)+b)"
      ],
      "metadata": {
        "colab": {
          "base_uri": "https://localhost:8080/"
        },
        "id": "fgJZVA-fnIQ0",
        "outputId": "c11594ec-a0b7-4812-bcd0-1665a4bff9b6"
      },
      "execution_count": 43,
      "outputs": [
        {
          "output_type": "stream",
          "name": "stdout",
          "text": [
            "[-0.73362481 -0.4472136  -1.          0.4472136 ]\n",
            "250.3166370500767\n"
          ]
        }
      ]
    },
    {
      "cell_type": "markdown",
      "source": [
        "## 🧮 Normal Equation in Multi-Feature Linear Regression\n",
        "\n",
        "When working with multiple features, finding the optimal weights (coefficients) is essential for accurate predictions. There are two main approaches:\n",
        "\n",
        "---\n",
        "\n",
        "### ⚡ The Normal Equation: Closed-Form Solution\n",
        "\n",
        "The normal equation provides a direct, non-iterative way to calculate weights:\n",
        "$\\\n",
        "\\theta = (X^T X)^{-1} X^T y\n",
        "\\$$\n",
        "\n",
        "- \\(X\\): Feature matrix with a column of ones for the intercept\n",
        "- \\(y\\): Target variable vector\n",
        "- \\(\\theta\\): Learned weights\n",
        "\n",
        "If the feature matrix is not invertible, use the Moore-Penrose pseudo-inverse for stability:\n",
        "\\$\n",
        "[\n",
        "\\theta = \\text{pinv}(X)\\ y\n",
        "\\]$\n",
        "\n",
        "\n",
        "---\n",
        "\n",
        "### 💡 When Does Gradient Descent Match The Normal Equation?\n",
        "\n",
        "If data preprocessing (scaling, bias column, feature order) is consistent, both approaches minimize the same cost function and should yield nearly identical weights and predictions. This is due to the convex nature of the linear regression cost function—there’s only one global minimum.\n",
        "\n",
        "---\n",
        "\n",
        "### 🆚 Comparing Both Approaches\n",
        "\n",
        "| Method             | Pros                      | Cons                                  |\n",
        "|--------------------|--------------------------|---------------------------------------|\n",
        "| Gradient Descent   | Works on big data, flexible | Needs iterations, scaling required    |\n",
        "| Normal Equation    | Fast (small data), no tuning   | May fail with non-invertible matrix   |\n",
        "\n",
        "---\n",
        "\n",
        "### 🚩 Common Pitfalls\n",
        "\n",
        "- Forgetting to add a bias (intercept) column for the normal equation\n",
        "- Different feature preprocessing between methods\n",
        "- Using `np.linalg.inv` on non-invertible matrices (prefer `np.linalg.pinv`)\n",
        "- Comparing weights with mismatched feature order\n",
        "\n",
        "---\n",
        "\n",
        "### 📋 Summary\n",
        "\n",
        "Both gradient descent and the normal equation are foundational for multiple linear regression. When set up properly, comparing their results validates correct implementation, improves model understanding, and strengthens confidence in the results.\n"
      ],
      "metadata": {
        "id": "5-5sV_TARvDg"
      }
    },
    {
      "cell_type": "code",
      "source": [
        "# Add bias term (column of ones)\n",
        "X_b = np.c_[np.ones((x_train.shape[0], 1)), x_train]  # shape (m, n+1)\n",
        "\n",
        "# Use pseudo-inverse to ensure stability\n",
        "theta = np.linalg.pinv(X_b) @ y_train\n",
        "print(f\"{theta[1:]} {theta[0]}\")\n",
        "print(w,b)"
      ],
      "metadata": {
        "colab": {
          "base_uri": "https://localhost:8080/"
        },
        "id": "knof9s7NL1wM",
        "outputId": "161fe684-e96f-4250-924b-c6515eaee4fc"
      },
      "execution_count": 45,
      "outputs": [
        {
          "output_type": "stream",
          "name": "stdout",
          "text": [
            "[ 63.18719507  69.56916379 -23.75428041 -41.29944596] 322.5\n",
            "[ 63.18719507  69.56916379 -23.75428041 -41.29944596] 322.49999999971584\n"
          ]
        }
      ]
    },
    {
      "cell_type": "code",
      "source": [
        "print(compute_cost(theta[1:],theta[0],x_train,y_train))\n",
        "print(compute_cost(w,b,x_train,y_train))"
      ],
      "metadata": {
        "id": "nxD8JGpteurY",
        "colab": {
          "base_uri": "https://localhost:8080/"
        },
        "outputId": "350518aa-b4fe-4aeb-84dd-13a78445fc16"
      },
      "execution_count": 46,
      "outputs": [
        {
          "output_type": "stream",
          "name": "stdout",
          "text": [
            "8.582806648804608e-27\n",
            "4.410712576315071e-20\n"
          ]
        }
      ]
    },
    {
      "cell_type": "markdown",
      "source": [
        "\"\"\"\n",
        "## 🧩 Feature Engineering — Making Data More Useful for the Model\n",
        "\n",
        "After loading and cleaning the dataset, the next important step before training our model\n",
        "is **Feature Engineering**. It focuses on improving the quality and structure of our input features\n",
        "so that the model can learn patterns more effectively.\n",
        "\n",
        "In Linear Regression, we assume a *linear* relationship between inputs (features) and output (target).\n",
        "However, raw data often doesn’t directly follow this pattern — and that’s where feature engineering helps.\n",
        "\n",
        "---\n",
        "\n",
        "### 🔹 Why We Need Feature Engineering\n",
        "\n",
        "- Features may not be on the same scale or may contain skewed distributions.\n",
        "- Some relationships between input and output may be nonlinear.\n",
        "- Categorical (non-numeric) data cannot be directly used in regression.\n",
        "- Irrelevant or correlated features can confuse the model.\n",
        "\n",
        "Feature engineering ensures the dataset is **clean, well-scaled, and informative**.\n",
        "\n",
        "---\n",
        "\n",
        "### 🔹 Common Techniques in Feature Engineering\n",
        "\n",
        "1. **Feature Creation**\n",
        "   - Creating new features from existing ones to capture more patterns.\n",
        "   - Example: adding polynomial terms like `size²` or combining features like `size * rooms`.\n",
        "\n",
        "2. **Feature Transformation**\n",
        "   - Applying mathematical transformations to reduce skewness or make relationships more linear.\n",
        "   - Example: log or square root transformations.\n",
        "\n",
        "3. **Handling Categorical Features**\n",
        "   - Converting non-numeric categories (like city names or types) into numeric form\n",
        "     using **One-Hot Encoding** or **Label Encoding**.\n",
        "\n",
        "4. **Feature Scaling**\n",
        "   - Standardizing or normalizing features so all of them have comparable ranges.\n",
        "   - Essential for gradient descent-based algorithms.\n",
        "\n",
        "5. **Feature Selection**\n",
        "   - Removing irrelevant or redundant features to simplify the model and reduce overfitting.\n",
        "\n",
        "---\n",
        "\n",
        "### 💡 In short:\n",
        "Feature Engineering is the process of turning **raw data → structured, meaningful input**\n",
        "so that our Linear Regression model can perform efficiently and accurately.\n",
        "\"\"\"\n"
      ],
      "metadata": {
        "id": "2Nu8AIi5QKSt"
      }
    },
    {
      "cell_type": "code",
      "source": [
        "import numpy as np"
      ],
      "metadata": {
        "id": "SnlBhZ9zQ6rD"
      },
      "execution_count": 2,
      "outputs": []
    },
    {
      "cell_type": "code",
      "source": [
        "# 🏠 Example dataset\n",
        "# ---------------------------\n",
        "# Columns: size (sqft), bedrooms, age, city (encoded manually)\n",
        "# We'll use integers for city: 0 = Delhi, 1 = Mumbai, 2 = Kolkata\n",
        "\n",
        "X_base = np.array([\n",
        "    [850, 2, 10, 0],\n",
        "    [900, 3, 5, 0],\n",
        "    [1200, 3, 15, 1],\n",
        "    [1500, 4, 20, 2],\n",
        "    [1850, 4, 7, 1],\n",
        "    [2400, 5, 3, 0]\n",
        "], dtype=float)\n",
        "\n",
        "y = np.array([7.0, 7.6, 10.0, 12.0, 14.0, 16.0]) * 1e6  # target: price"
      ],
      "metadata": {
        "id": "qQrDGn2ZQLVz"
      },
      "execution_count": 3,
      "outputs": []
    },
    {
      "cell_type": "code",
      "source": [
        "# 🔹 1. Feature Creation\n",
        "# ---------------------------\n",
        "\n",
        "# Feature 0 = size, Feature 1 = bedrooms, Feature 2 = age\n",
        "size = X_base[:, 0]\n",
        "bedrooms = X_base[:, 1]\n",
        "age = X_base[:, 2]\n",
        "\n",
        "# Create new features\n",
        "size_squared = size ** 2\n",
        "age_sqrt = np.sqrt(age)\n",
        "size_bedroom_interaction = size * bedrooms\n",
        "\n",
        "# Stack all features horizontally\n",
        "X_new = np.column_stack((X_base, size_squared, age_sqrt, size_bedroom_interaction))\n",
        "\n",
        "print(\"Shape before scaling:\", X_new.shape)\n",
        "print(\"\\nSample features before scaling (first 3 rows):\\n\", X_new[:3])\n"
      ],
      "metadata": {
        "colab": {
          "base_uri": "https://localhost:8080/"
        },
        "id": "TqvtqEmDQyJ-",
        "outputId": "b58d43e3-b1e2-499d-965d-6c558d1d074a"
      },
      "execution_count": 4,
      "outputs": [
        {
          "output_type": "stream",
          "name": "stdout",
          "text": [
            "Shape before scaling: (6, 7)\n",
            "\n",
            "Sample features before scaling (first 3 rows):\n",
            " [[8.50000000e+02 2.00000000e+00 1.00000000e+01 0.00000000e+00\n",
            "  7.22500000e+05 3.16227766e+00 1.70000000e+03]\n",
            " [9.00000000e+02 3.00000000e+00 5.00000000e+00 0.00000000e+00\n",
            "  8.10000000e+05 2.23606798e+00 2.70000000e+03]\n",
            " [1.20000000e+03 3.00000000e+00 1.50000000e+01 1.00000000e+00\n",
            "  1.44000000e+06 3.87298335e+00 3.60000000e+03]]\n"
          ]
        }
      ]
    },
    {
      "cell_type": "code",
      "source": [
        "# 🔹 2. One-Hot Encode the 'city' feature (manually)\n",
        "# ---------------------------\n",
        "# City column index = 3 in X_base (values 0, 1, 2)\n",
        "cities = X_base[:, 3].astype(int)\n",
        "unique_cities = np.unique(cities)\n",
        "\n",
        "# Create one-hot encoded columns (excluding one to avoid dummy trap)\n",
        "one_hot = np.zeros((len(cities), len(unique_cities) - 1))\n",
        "for i in range(len(cities)):\n",
        "    if cities[i] == 1:   # Mumbai\n",
        "        one_hot[i, 0] = 1\n",
        "    elif cities[i] == 2: # Kolkata\n",
        "        one_hot[i, 1] = 1\n",
        "\n",
        "# Remove old city column and add one-hot columns\n",
        "X_no_city = np.delete(X_new, 3, axis=1)\n",
        "X_final = np.hstack((X_no_city, one_hot))\n",
        "\n",
        "print(\"\\nShape after one-hot encoding:\", X_final.shape)\n",
        "print(\"Sample data after encoding (first 3 rows):\\n\", X_final[:3])\n"
      ],
      "metadata": {
        "colab": {
          "base_uri": "https://localhost:8080/"
        },
        "id": "XOMUQM_iQ-Iw",
        "outputId": "da403d56-87fd-4ce6-9928-4a3c7fc6b00a"
      },
      "execution_count": 5,
      "outputs": [
        {
          "output_type": "stream",
          "name": "stdout",
          "text": [
            "\n",
            "Shape after one-hot encoding: (6, 8)\n",
            "Sample data after encoding (first 3 rows):\n",
            " [[8.50000000e+02 2.00000000e+00 1.00000000e+01 7.22500000e+05\n",
            "  3.16227766e+00 1.70000000e+03 0.00000000e+00 0.00000000e+00]\n",
            " [9.00000000e+02 3.00000000e+00 5.00000000e+00 8.10000000e+05\n",
            "  2.23606798e+00 2.70000000e+03 0.00000000e+00 0.00000000e+00]\n",
            " [1.20000000e+03 3.00000000e+00 1.50000000e+01 1.44000000e+06\n",
            "  3.87298335e+00 3.60000000e+03 1.00000000e+00 0.00000000e+00]]\n"
          ]
        }
      ]
    },
    {
      "cell_type": "code",
      "source": [
        "# 🔹 3. Feature Scaling\n",
        "# ---------------------------\n",
        "\n",
        "# Standardization: (x - mean) / std\n",
        "mean = np.mean(X_final, axis=0)\n",
        "std = np.std(X_final, axis=0)\n",
        "X_scaled = (X_final - mean) / std\n",
        "\n",
        "print(\"\\nShape after scaling:\", X_scaled.shape)\n",
        "print(\"Scaled features (first 3 rows):\\n\", X_scaled[:3])\n",
        "\n",
        "# ✅ Final features and targets ready\n",
        "print(\"\\n✅ X_scaled and y are now ready for multiple linear regression training.\")"
      ],
      "metadata": {
        "colab": {
          "base_uri": "https://localhost:8080/"
        },
        "id": "clQT8OZJR3H4",
        "outputId": "1c59f2e9-d830-4098-e497-41e47c4c3451"
      },
      "execution_count": 6,
      "outputs": [
        {
          "output_type": "stream",
          "name": "stdout",
          "text": [
            "\n",
            "Shape after scaling: (6, 8)\n",
            "Scaled features (first 3 rows):\n",
            " [[-1.09850076 -1.5666989   0.         -0.95268373  0.15158776 -1.11641728\n",
            "  -0.70710678 -0.4472136 ]\n",
            " [-1.00695903 -0.52223297 -0.84920778 -0.90301551 -0.83669639 -0.82768868\n",
            "  -0.70710678 -0.4472136 ]\n",
            " [-0.45770865 -0.52223297  0.84920778 -0.54540434  0.90992486 -0.56783293\n",
            "   1.41421356 -0.4472136 ]]\n",
            "\n",
            "✅ X_scaled and y are now ready for multiple linear regression training.\n"
          ]
        }
      ]
    },
    {
      "cell_type": "code",
      "source": [
        "w = np.zeros(X_scaled.shape[1])\n",
        "b = 0"
      ],
      "metadata": {
        "id": "aB2aqtOlVRov"
      },
      "execution_count": 16,
      "outputs": []
    },
    {
      "cell_type": "code",
      "source": [
        "cost_history,w,b=perform_gradient_descent(w,b,X_scaled,y,0.0001,10000000)"
      ],
      "metadata": {
        "colab": {
          "base_uri": "https://localhost:8080/"
        },
        "id": "NX7jfAkCVE3T",
        "outputId": "74a32b3b-bddb-4f83-db07-c82bf1fa8914"
      },
      "execution_count": 19,
      "outputs": [
        {
          "output_type": "stream",
          "name": "stdout",
          "text": [
            "initial cost is 187292887.92905453\n",
            "\n",
            "current cost = 187292052.16307512 w = [1325509.43851539  -55076.35456984 -395161.09540974 1006348.52491042\n",
            "   23595.48311818  716436.56327887  834157.82948832  905556.56840778] b = 11099999.999999909 dj_db = -9.158005317052205e-08\n",
            "\n",
            "current cost = 2160439.1346363504 w = [1363359.12554767 -126723.32816958 -439870.15297708 1023928.20239302\n",
            "   18225.30153555  708978.11425711  856773.92167821  968056.57724687] b = 11099999.999999909 dj_db = -9.12696123123169e-08\n",
            "\n",
            "current cost = 24920.957406734004 w = [1367424.24601018 -134418.33357999 -444671.98647262 1025816.28703523\n",
            "   17648.53182806  708177.06225038  859202.93219804  974769.19162344] b = 11099999.999999909 dj_db = -9.12696123123169e-08\n",
            "\n",
            "current cost = 287.4666118182832 w = [1367860.84704757 -135244.79060041 -445187.7117765  1026019.07062336\n",
            "   17586.58575413  708091.0278658   859463.81217017  975490.13813113] b = 11099999.999999909 dj_db = -9.12696123123169e-08\n",
            "\n",
            "current cost = 3.315966219227322 w = [1367907.73876155 -135333.55352782 -445243.10157484 1026040.84993485\n",
            "   17579.9326376   708081.78762264  859491.8311348   975567.56904519] b = 11099999.999999909 dj_db = -9.158005317052205e-08\n",
            "\n",
            "current cost = 0.03825011942172776 w = [1367912.77501348 -135343.08682125 -445249.05053593 1026043.18907093\n",
            "   17579.21808127  708080.79520446  859494.84042054  975575.88526059] b = 11099999.999999909 dj_db = -9.158005317052205e-08\n",
            "\n",
            "current cost = 0.0004412212208143717 w = [1367913.31591532 -135344.11071368 -445249.68946474 1026043.440298\n",
            "   17579.14133672  708080.68861774  859495.16362312  975576.77843661] b = 11099999.999999909 dj_db = -9.12696123123169e-08\n",
            "\n",
            "current cost = 5.090431063664421e-06 w = [1367913.37400569 -135344.22068182 -445249.75808686 1026043.46727858\n",
            "   17579.13309453  708080.67717555  859495.19833584  975576.87436499] b = 11099999.999999909 dj_db = -9.095917145411174e-08\n",
            "\n",
            "current cost = 5.907720561851524e-08 w = [1367913.3802374  -135344.23249102 -445249.76545622 1026043.47017774\n",
            "   17579.13221086  708080.6759517   859495.20206388  975576.88466555] b = 11099999.999999909 dj_db = -9.12696123123169e-08\n",
            "\n",
            "current cost = 7.125401335223344e-10 w = [1367913.38091353 -135344.23376062 -445249.76624789 1026043.47048361\n",
            "   17579.13211673  708080.67582115  859495.20246272  975576.88577113] b = 11099999.999999909 dj_db = -9.12696123123169e-08\n",
            "\n"
          ]
        }
      ]
    },
    {
      "cell_type": "markdown",
      "source": [
        "Now lets plot the cost after each iteration.\n",
        "* Note that this plot should go down and then have an asymptote near 0, this shows that the cost lowered initially and then went towards 0"
      ],
      "metadata": {
        "id": "0huyRu-3bHpF"
      }
    },
    {
      "cell_type": "code",
      "source": [
        "import matplotlib.pyplot as plt\n",
        "plt.plot(cost_history, range(len(cost_history)),c='blue')\n",
        "plt.title(\"Iteration vs Cost\")\n",
        "plt.xlabel(\"No of Iterations\")\n",
        "plt.ylabel(\"Cost\")\n",
        "plt.show()"
      ],
      "metadata": {
        "colab": {
          "base_uri": "https://localhost:8080/",
          "height": 472
        },
        "id": "cvu71Xn0VgT2",
        "outputId": "836deb48-0251-4a60-e41f-108883a3c8ac"
      },
      "execution_count": 23,
      "outputs": [
        {
          "output_type": "display_data",
          "data": {
            "text/plain": [
              "<Figure size 640x480 with 1 Axes>"
            ],
            "image/png": "[encoded data removed]"
          },
          "metadata": {}
        }
      ]
    },
    {
      "cell_type": "markdown",
      "source": [
        "Now lets plot the graph to check whether the model fits with the training set"
      ],
      "metadata": {
        "id": "vRUfV7KtbAYr"
      }
    },
    {
      "cell_type": "code",
      "source": [
        "plt.scatter(range(X_scaled.shape[0]),y,c='red',marker=\"x\")\n",
        "plt.plot(range(X_scaled.shape[0]),compure_prediction(w,b,X_scaled),c='green')\n",
        "plt.title(\"Examples vs prediction\")\n",
        "plt.show()"
      ],
      "metadata": {
        "colab": {
          "base_uri": "https://localhost:8080/",
          "height": 452
        },
        "id": "Jw7BoORxYuFI",
        "outputId": "e8412e6b-60e0-47f8-b0d8-eaeae2a10134"
      },
      "execution_count": 24,
      "outputs": [
        {
          "output_type": "display_data",
          "data": {
            "text/plain": [
              "<Figure size 640x480 with 1 Axes>"
            ],
            "image/png": "[encoded data removed]"
          },
          "metadata": {}
        }
      ]
    },
    {
      "cell_type": "markdown",
      "source": [
        "* Below we try to check whether the solution that we got are correct, ie they match with the ones that we get through solving the normal equation."
      ],
      "metadata": {
        "id": "2VU2NNwYa2KL"
      }
    },
    {
      "cell_type": "code",
      "source": [
        "# Add bias term (column of ones)\n",
        "X_b = np.c_[np.ones((X_scaled.shape[0], 1)), X_scaled]  # shape (m, n+1)\n",
        "\n",
        "# Use pseudo-inverse to ensure stability\n",
        "theta = np.linalg.pinv(X_b) @ y\n",
        "print(f\"{theta[1:]} {theta[0]}\")\n",
        "print(w,b)"
      ],
      "metadata": {
        "colab": {
          "base_uri": "https://localhost:8080/"
        },
        "id": "g4yDvGGiZ7sP",
        "outputId": "fc910a92-9cb1-4ecc-d45d-c43361a889fe"
      },
      "execution_count": 25,
      "outputs": [
        {
          "output_type": "stream",
          "name": "stdout",
          "text": [
            "[1367913.38099977 -135344.2339133  -445249.76634374 1026043.47052718\n",
            "   17579.13210238  708080.67579178  859495.20251241  975576.88590792] 11100000.000000011\n",
            "[1367913.38095405 -135344.23389229 -445249.76633452 1026043.4705319\n",
            "   17579.13210929  708080.67581901  859495.20250851  975576.88588995] 11099999.999999909\n"
          ]
        }
      ]
    },
    {
      "cell_type": "markdown",
      "source": [
        "## Congratulations\n",
        "### You have learnt multiple feature linear regression\n"
      ],
      "metadata": {
        "id": "LJ5NlsoYcXHk"
      }
    },
    {
      "cell_type": "code",
      "source": [],
      "metadata": {
        "id": "aMa2YagHci7u"
      },
      "execution_count": null,
      "outputs": []
    }
  ]
}